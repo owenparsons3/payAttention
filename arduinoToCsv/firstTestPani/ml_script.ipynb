{
 "cells": [
  {
   "cell_type": "code",
   "execution_count": 4,
   "metadata": {},
   "outputs": [],
   "source": [
    "import csv\n",
    "\n",
    "# Function to parse the time from the timestamp string\n",
    "def parse_time(timestamp):\n",
    "    return timestamp.split()[0]\n",
    "\n",
    "# Function to parse the heart rate from the record\n",
    "def parse_heart_rate(record):\n",
    "    heart_rate_index = record.find('Heart Rate')\n",
    "    if heart_rate_index != -1:\n",
    "        return int(record[heart_rate_index + len('Heart Rate: '):].split()[0])\n",
    "    else:\n",
    "        return None\n",
    "\n",
    "# Function to parse the conductivity value from the record\n",
    "def parse_conductivity(record):\n",
    "    return int(record.split()[-1])\n",
    "\n",
    "# Function to generate data points with average heart rate and conductivity readings for each second\n",
    "def generate_data_points(data):\n",
    "    data_points = []\n",
    "    current_second = None\n",
    "    last_heart_rate = None\n",
    "    conductivities = []\n",
    "\n",
    "    for timestamp, value in data:\n",
    "        second = parse_time(timestamp)\n",
    "        if interval_1_start <= second <= interval_2_end:  # Check if the timestamp is within the specified intervals\n",
    "            if second != current_second:\n",
    "                if current_second is not None:\n",
    "                    avg_heart_rate = last_heart_rate if last_heart_rate is not None else 0\n",
    "                    avg_conductivity = round(sum(conductivities) / len(conductivities), 1)\n",
    "                    data_points.append((timestamp, avg_heart_rate, avg_conductivity, label_for_interval(current_second)))\n",
    "                current_second = second\n",
    "                conductivities = []\n",
    "\n",
    "            heart_rate = parse_heart_rate(value)\n",
    "            if heart_rate is not None:\n",
    "                last_heart_rate = heart_rate\n",
    "            else:\n",
    "                conductivity = parse_conductivity(value)\n",
    "                conductivities.append(conductivity)\n",
    "\n",
    "    # Process the last second of data\n",
    "    if current_second is not None:\n",
    "        avg_heart_rate = last_heart_rate if last_heart_rate is not None else 0\n",
    "        avg_conductivity = round(sum(conductivities) / len(conductivities), 1)\n",
    "        data_points.append((timestamp, avg_heart_rate, avg_conductivity, label_for_interval(current_second)))\n",
    "\n",
    "    return data_points\n",
    "\n",
    "# Function to determine the label based on the timestamp\n",
    "def label_for_interval(timestamp):\n",
    "    interval_1_start = \"16:27:50\"\n",
    "    interval_1_end = \"16:37:50\"\n",
    "    interval_2_start = \"16:39:15\"\n",
    "    interval_2_end = \"16:49:15\"\n",
    "\n",
    "    if interval_1_start <= timestamp <= interval_1_end:\n",
    "        return 1\n",
    "    elif interval_2_start <= timestamp <= interval_2_end:\n",
    "        return 0\n",
    "    else:\n",
    "        return None\n",
    "\n",
    "# Read the CSV file\n",
    "data = []\n",
    "with open('arduinoReadingspani.csv', newline='') as csvfile:\n",
    "    reader = csv.reader(csvfile)\n",
    "    for row in reader:\n",
    "        timestamp = parse_time(row[0])\n",
    "        value = row[0]\n",
    "        data.append((timestamp, value))\n",
    "\n",
    "# Define the intervals\n",
    "interval_1_start = \"16:27:50\"\n",
    "interval_1_end = \"16:37:50\"\n",
    "interval_2_start = \"16:39:15\"\n",
    "interval_2_end = \"16:49:15\"\n",
    "\n",
    "# Generate data points with average heart rate and conductivity readings for each second\n",
    "data_points = generate_data_points(data)\n",
    "\n",
    "# Print the generated data points with labels\n"
   ]
  },
  {
   "cell_type": "code",
   "execution_count": 5,
   "metadata": {},
   "outputs": [
    {
     "name": "stdout",
     "output_type": "stream",
     "text": [
      "('16:37:55', [-0.1, 0.0, 0.0, 0.0, 0.0, 28.9, 28.9, 28.9, 28.9, 28.9, None])\n",
      "('16:38:00', [0.0, -0.1, -0.1, 0.0, 0.1, 28.9, 28.9, 28.9, 28.9, 28.9, None])\n",
      "('16:38:05', [0.1, 0.1, 0.1, 0.1, 0.1, 28.9, 28.9, 28.9, 28.9, 29.0, None])\n",
      "('16:38:10', [0.1, 0.1, 0.1, 0.1, 0.1, 29.0, 29.0, 29.0, 29.0, 29.0, None])\n",
      "('16:38:15', [0.1, 0.1, 0.2, 0.2, 0.2, 29.0, 29.0, 29.0, 29.1, 29.1, None])\n",
      "('16:38:20', [0.1, 0.1, 0.1, 0.0, 0.0, 29.1, 29.1, 29.1, 29.1, 29.1, None])\n",
      "('16:38:25', [0.1, 0.1, 0.1, 0.1, 0.1, 29.1, 29.1, 29.1, 29.1, 29.1, None])\n",
      "('16:38:30', [0.2, 0.2, 0.2, 0.2, 0.1, 29.1, 29.1, 29.0, 29.1, 29.1, None])\n",
      "('16:38:35', [0.1, 0.2, 0.3, 0.4, 0.4, 29.1, 29.0, 28.7, 28.5, 28.5, None])\n",
      "('16:38:40', [0.5, 0.5, 0.5, 0.5, 0.6, 28.4, 28.3, 28.3, 28.1, 28.0, None])\n",
      "('16:38:45', [0.5, 0.5, 0.5, 0.5, 0.5, 28.1, 28.1, 28.1, 28.2, 28.1, None])\n",
      "('16:38:50', [0.4, 0.4, 0.4, 0.2, 0.2, 27.9, 27.5, 27.2, 26.8, 26.2, None])\n",
      "('16:38:55', [0.1, 0.1, 0.1, 0.1, 0.1, 26.2, 26.6, 26.5, 26.1, 25.4, None])\n",
      "('16:39:00', [0.1, 0.1, 0.1, 0.1, 0.0, 25.2, 25.0, 24.6, 24.7, 25.1, None])\n",
      "('16:39:05', [0.1, 0.1, 0.1, 0.2, 0.2, 25.4, 25.3, 25.1, 24.6, 24.2, None])\n",
      "('16:39:10', [0.2, 0.2, 0.3, 0.4, 0.3, 23.7, 23.6, 23.7, 23.9, 24.0, None])\n",
      "('16:39:15', [0.3, 0.4, 0.5, 0.5, 0.7, 24.2, 24.2, 24.3, 24.2, 23.9, None])\n"
     ]
    }
   ],
   "source": [
    "# Create a new dataset by concatenating values within each 5-second interval\n",
    "new_dataset = []\n",
    "current_interval = None\n",
    "heart_rates = []\n",
    "conductivities = []\n",
    "\n",
    "# get meand and sd from data to normalise it\n",
    "hr_mean = 67.6 \n",
    "hr_std = 7.0 \n",
    "cond_mean = 300.7 \n",
    "cond_std = 25.3\n",
    "\n",
    "for timestamp, *data in data_points:\n",
    "    interval = int(timestamp[-2:]) // 5  # Determine the interval based on the seconds (0-11)\n",
    "    if current_interval is None:\n",
    "        current_interval = interval\n",
    "    elif interval != current_interval:\n",
    "        concatenated_data = heart_rates + conductivities + [label]\n",
    "        new_dataset.append((timestamp, concatenated_data))\n",
    "        heart_rates = []\n",
    "        conductivities = []\n",
    "        current_interval = interval\n",
    "\n",
    "    heart_rates.extend(data[:len(data) // 2])  # Extract heart rates\n",
    "    conductivities.extend(data[len(data) // 2:-1])  # Extract conductivities\n",
    "    label = data[-1]\n",
    "\n",
    "# Add the last interval data\n",
    "if heart_rates:\n",
    "    concatenated_data = heart_rates + conductivities + [label]\n",
    "    new_dataset.append((timestamp, concatenated_data))\n",
    "\n",
    "# Compute mean and standard deviation for heart rate and conductivity data\n",
    "heart_rate_values = [data_point[1] for _, data_point in new_dataset]\n",
    "conductivity_values = [data_point[2] for _, data_point in new_dataset]\n",
    "\n",
    "hr_mean = round(sum(heart_rate_values) / len(heart_rate_values), 1)\n",
    "hr_std = round((sum((x - hr_mean) ** 2 for x in heart_rate_values) / len(heart_rate_values)) ** 0.5, 1)\n",
    "\n",
    "con_mean = round(sum(conductivity_values) / len(conductivity_values), 1)\n",
    "con_std = round((sum((x - con_mean) ** 2 for x in conductivity_values) / len(conductivity_values)) ** 0.5, 1)\n",
    "\n",
    "# Normalize heart rate and conductivity data\n",
    "normalized_data = []\n",
    "for timestamp, data_point in new_dataset:\n",
    "    normalized_hr = [round((x - hr_mean) / hr_std, 1) for x in data_point[:len(data_point) // 2]]  # Normalize heart rate data\n",
    "    normalized_con = [round((x - con_mean) / con_std, 1) for x in data_point[len(data_point) // 2:-1]]  # Normalize conductivity data\n",
    "    label = data_point[-1]\n",
    "    normalized_data.append((timestamp, normalized_hr + normalized_con + [label]))\n",
    "\n",
    "normalized_data = normalized_data[1:len(normalized_data) -2]\n",
    "# Print the normalized data\n",
    "\n",
    "for data in normalized_data:\n",
    "    if data[1][-1] == None:\n",
    "        print(data)\n"
   ]
  },
  {
   "cell_type": "code",
   "execution_count": 6,
   "metadata": {},
   "outputs": [
    {
     "name": "stdout",
     "output_type": "stream",
     "text": [
      "239 239\n"
     ]
    }
   ],
   "source": [
    "norm_data = []\n",
    "for i in range(len(normalized_data)):\n",
    "    norm_data.append(normalized_data[i][1])\n",
    "sud_norm_data = norm_data[:119]\n",
    "rest_norm_data = norm_data[136:]\n",
    "\n",
    "data = sud_norm_data + rest_norm_data\n",
    "\n",
    "labels = [d[-1] for d in data]\n",
    "print(len(labels), len(data))"
   ]
  },
  {
   "cell_type": "code",
   "execution_count": 7,
   "metadata": {},
   "outputs": [],
   "source": [
    "import random\n",
    "import sklearn\n",
    "from sklearn.model_selection import StratifiedShuffleSplit\n",
    "\n",
    "split = StratifiedShuffleSplit(n_splits=1, test_size=0.2, random_state=42)\n",
    "\n",
    "strat_train_set = []\n",
    "strat_test_set = []\n",
    "\n",
    "for train_index, test_index in split.split(data, labels):\n",
    "    strat_train_set = [data[index] for index in train_index]\n",
    "    strat_test_set = [data[index] for index in test_index]"
   ]
  },
  {
   "cell_type": "code",
   "execution_count": 8,
   "metadata": {},
   "outputs": [
    {
     "name": "stdout",
     "output_type": "stream",
     "text": [
      "[[-0.1, -0.1, -0.1, -0.1, -0.1, 21.8, 21.9, 22.0, 22.1, 22.1], [0.1, 0.1, 0.2, 0.4, 0.4, 27.1, 26.8, 26.3, 26.0, 25.8], [0.1, 0.1, 0.1, 0.1, 0.1, 27.9, 27.9, 28.0, 28.0, 28.2], [0.2, 0.1, 0.1, 0.0, -0.1, 23.1, 23.2, 23.3, 23.3, 23.4], [-0.1, -0.1, -0.1, -0.1, -0.1, 27.3, 27.3, 27.3, 27.1, 27.1], [-0.5, -0.5, -0.4, -0.4, -0.4, 22.7, 22.6, 23.5, 22.5, 22.8], [0.6, 0.6, 0.5, 0.5, 0.5, 27.7, 27.7, 27.7, 27.7, 27.9], [-0.6, -0.6, -0.2, -0.2, -0.2, 28.2, 28.2, 28.2, 28.2, 28.3], [0.0, 0.0, 0.0, 0.1, 0.1, 28.2, 28.3, 28.3, 28.3, 28.4], [0.1, 0.1, 0.2, 0.2, 0.1, 28.3, 28.3, 28.4, 28.3, 28.5], [0.5, 0.4, 0.4, 0.3, 0.3, 28.5, 28.6, 28.6, 28.7, 28.6], [0.1, 0.1, 0.1, 0.1, 0.1, 29.0, 28.8, 28.5, 28.2, 28.0], [-1.3, -1.3, -1.6, -1.6, -1.6, 24.5, 24.5, 24.4, 24.0, 23.9], [-0.2, -0.3, -0.3, 0.2, 0.2, 22.8, 22.9, 23.0, 23.2, 23.3], [-0.6, -0.6, -0.6, -0.6, -0.6, 24.0, 24.0, 24.1, 24.1, 24.1], [-0.2, -0.2, -0.2, -0.2, -0.2, 24.2, 24.3, 24.5, 24.7, 24.9], [0.0, -0.1, -0.1, -0.1, -0.2, 25.8, 35.5, 34.3, 29.2, 42.9], [-0.5, -0.5, -0.5, -0.5, -0.5, 17.0, 20.2, 21.5, 22.6, 21.6], [-0.1, -0.2, -0.2, -0.2, -0.2, 27.5, 27.4, 27.4, 27.3, 27.4], [0.1, 0.1, 0.2, 0.2, 0.2, 28.8, 28.9, 28.9, 28.9, 28.9], [-0.8, -0.8, -0.8, -0.8, -0.8, 24.1, 24.2, 24.2, 24.2, 24.3], [0.2, 0.2, 0.2, 0.2, 0.2, 20.4, 20.6, 20.7, 20.9, 21.0], [0.4, 0.3, 0.3, 0.3, 0.2, 22.9, 23.0, 23.0, 23.0, 23.0], [-0.2, -0.2, -0.2, -0.2, -0.2, 22.5, 22.2, 22.0, 22.1, 22.1], [-0.1, -0.1, -0.1, -0.1, -0.1, 21.2, 21.5, 21.7, 21.9, 22.0], [-0.3, -0.1, -0.2, -0.2, -0.2, 22.7, 22.8, 22.8, 22.4, 22.8], [0.4, 0.4, 0.4, 0.3, 0.3, 26.0, 26.9, 26.5, 26.6, 26.6], [-0.2, -0.2, -0.2, -0.2, -0.2, 22.8, 22.9, 22.9, 22.9, 22.8], [0.2, 0.1, 0.1, 0.1, 0.1, 27.2, 27.3, 27.3, 27.3, 27.3], [0.1, 0.1, 0.1, 0.1, 0.0, 27.6, 27.6, 27.6, 27.6, 27.7], [-0.3, -0.2, -0.2, -0.3, -0.3, 27.7, 27.7, 27.8, 27.9, 28.2], [-0.3, -0.3, -0.3, -0.3, -0.3, 24.3, 24.3, 24.4, 24.4, 24.5], [-0.3, -0.2, -0.1, -0.1, -0.1, 26.7, 26.7, 26.8, 26.9, 26.8], [-0.7, -0.7, -0.5, -0.3, -0.3, 24.4, 24.5, 24.6, 24.6, 24.8], [0.4, 0.5, 0.4, 0.4, 0.4, 27.5, 27.6, 27.6, 27.6, 27.7], [-0.7, -0.7, -0.6, -0.7, -0.7, 21.1, 21.2, 21.5, 21.4, 21.3], [0.1, 0.1, 0.1, 0.1, 0.1, 28.4, 28.3, 28.3, 28.4, 28.4], [-0.3, -0.3, -0.3, -0.3, -0.1, 21.4, 21.4, 21.4, 21.5, 21.6], [-0.3, -0.3, -0.3, -0.3, -0.3, 27.5, 27.5, 27.2, 27.1, 27.1], [-0.2, -0.2, -0.2, -0.2, -0.2, 25.1, 25.4, 25.4, 25.5, 25.4], [-1.7, -1.6, -1.3, -1.3, -1.3, 23.9, 24.0, 24.1, 24.2, 25.1], [0.1, 0.1, 0.2, 0.1, 0.1, 21.3, 21.2, 20.5, 20.2, 20.4], [0.4, 0.4, 0.4, 0.4, 0.4, 28.7, 28.7, 28.6, 28.6, 28.6], [0.0, 0.0, 0.0, -0.1, -0.1, 24.3, 24.4, 24.4, 24.5, 24.4], [0.1, 0.1, 0.1, 0.1, 0.1, 21.6, 21.4, 21.2, 20.8, 20.5], [-0.2, -0.2, -0.2, -0.2, -0.2, 21.6, 21.7, 21.6, 22.1, 22.8], [-0.2, -0.2, -0.2, -0.2, -0.2, 22.0, 22.1, 22.2, 22.2, 22.3], [0.1, 0.1, 0.1, 0.1, 0.1, 28.5, 28.5, 28.5, 28.5, 28.5], [0.2, 0.2, 0.1, 0.1, 0.1, 24.0, 24.0, 24.0, 24.1, 24.1], [-0.2, -0.2, -0.2, -0.2, -0.1, 22.4, 22.2, 22.2, 21.8, 21.5], [-1.1, -1.5, -1.5, -1.5, -1.5, 23.5, 23.0, 22.4, 22.0, 22.1], [-0.5, -0.3, -0.3, -0.2, -0.2, 30.5, 23.4, 23.2, 23.4, 23.6], [-0.2, -0.2, -0.2, -0.2, -0.2, 25.5, 25.5, 25.5, 25.9, 25.9], [0.1, 0.1, 0.1, 0.1, 0.1, 24.1, 24.1, 24.1, 24.1, 24.2], [-1.6, -1.6, -1.6, -1.6, -1.7, 23.7, 23.6, 23.5, 23.5, 23.6], [0.3, 0.2, 0.3, 0.3, 0.2, 27.8, 27.8, 27.7, 27.7, 27.7], [-0.1, -0.1, -0.1, -0.1, -0.1, 29.9, 19.9, 20.5, 20.7, 21.0], [-0.1, 0.0, 0.0, 0.0, 0.0, 27.2, 27.2, 27.2, 27.2, 27.2], [0.0, 0.0, 0.0, 0.0, 0.0, 28.7, 28.7, 28.7, 28.7, 28.7], [0.3, 0.3, 0.2, 0.2, 0.2, 27.6, 27.6, 27.6, 27.4, 27.2], [-0.1, -0.1, -0.1, -0.1, -0.1, 27.0, 27.0, 27.0, 27.0, 26.9], [-0.1, -0.1, -0.1, -0.1, -0.1, 27.8, 27.9, 27.9, 27.9, 27.9], [-0.6, -0.6, -0.6, -0.8, -0.8, 24.4, 24.0, 23.7, 23.8, 23.9], [-0.1, -0.1, -0.1, -0.1, -0.1, 23.7, 23.7, 23.8, 23.9, 23.9], [-1.2, -1.2, -1.2, -1.3, -1.3, 23.9, 24.4, 24.5, 24.4, 24.4], [-0.5, -0.5, -0.5, -0.5, -0.5, 27.4, 27.4, 27.4, 27.4, 27.4], [0.2, 0.2, 0.2, 0.2, 0.2, 28.4, 28.4, 28.4, 28.4, 28.5], [-0.1, -0.1, -0.1, -0.1, -0.1, 23.4, 23.5, 23.6, 23.6, 23.7], [-0.8, -1.2, -1.2, -1.2, -1.2, 23.2, 23.7, 23.7, 23.8, 23.9], [0.2, 0.3, 0.3, 0.4, 0.4, 23.1, 22.8, 22.5, 22.6, 22.7], [0.1, 0.2, 0.2, 0.2, 0.2, 21.8, 21.3, 21.2, 21.5, 21.8], [-0.3, -0.3, -0.3, -0.3, -0.2, 27.6, 27.7, 27.6, 27.7, 27.7], [0.1, 0.1, -0.2, -0.2, -0.4, 25.1, 38.6, 31.5, 41.4, 28.6], [0.0, 0.0, 0.0, 0.1, 0.1, 22.9, 23.1, 23.1, 23.2, 22.8], [0.1, 0.1, 0.1, 0.1, 0.1, 24.1, 24.2, 24.2, 24.2, 24.3], [0.2, 0.2, 0.2, 0.2, 0.2, 27.6, 27.4, 27.2, 27.1, 27.1], [-0.1, -0.1, 0.0, 0.0, 0.0, 24.1, 24.2, 24.2, 24.2, 24.1], [0.8, 0.8, 0.8, 0.6, 0.5, 23.7, 23.7, 23.8, 23.8, 23.9], [-0.2, -0.2, -0.2, -0.2, -0.2, 28.3, 28.3, 28.3, 28.4, 28.4], [0.0, -0.1, -0.1, -0.1, -0.1, 27.2, 27.2, 27.1, 27.2, 27.2], [-0.1, -0.1, -0.1, 0.1, 0.1, 22.2, 22.4, 22.5, 22.6, 22.4], [-0.3, -0.3, -0.3, -0.3, -0.3, 22.4, 22.6, 22.7, 22.9, 22.9], [0.1, 0.1, 0.0, 0.0, 0.0, 28.9, 28.8, 28.8, 28.9, 28.9], [0.2, 0.3, 0.3, 0.2, 0.2, 23.5, 23.6, 23.1, 22.7, 22.6], [-0.2, -0.2, -0.1, -0.1, -0.1, 22.2, 22.2, 22.3, 26.4, 25.1], [-0.1, -0.2, -0.2, -0.1, -0.1, 26.8, 26.5, 26.0, 25.2, 24.8], [0.2, 0.2, 0.2, 0.2, 0.2, 27.5, 27.6, 27.6, 27.6, 27.6], [-0.2, -0.3, -0.3, -0.2, -0.2, 25.9, 25.9, 26.0, 26.0, 26.0], [0.2, 0.1, 0.1, 0.1, 0.0, 23.4, 23.5, 23.5, 23.6, 23.7], [0.1, 0.1, 0.0, -0.1, -0.1, 27.6, 27.6, 27.7, 27.7, 27.7], [-0.4, -0.6, -0.6, -0.6, -0.5, 23.6, 23.6, 23.5, 23.6, 23.8], [0.0, -0.1, -0.1, -0.1, -0.1, 28.9, 28.9, 28.9, 28.9, 28.9], [-0.1, -0.1, -0.1, -0.1, -0.1, 26.8, 26.8, 26.8, 26.9, 26.9], [0.1, 0.1, 0.2, 0.2, 0.2, 28.5, 28.5, 28.5, 28.5, 28.4], [-1.2, -1.4, -1.3, -1.3, -1.2, 21.2, 20.8, 20.9, 21.5, 21.8], [-1.4, -1.3, -1.3, -1.2, -1.2, 22.4, 22.5, 22.5, 22.6, 22.1], [-0.4, -0.3, -0.3, -0.3, -0.3, 23.5, 23.2, 23.1, 22.6, 21.7], [-0.6, -0.6, -0.6, -0.6, -0.6, 28.1, 28.2, 28.2, 28.2, 28.2], [0.5, 0.5, 0.5, 0.5, 0.4, 22.6, 22.6, 22.7, 22.8, 22.9], [-0.1, -0.2, -0.2, -0.2, -0.2, 24.2, 23.6, 23.1, 23.0, 22.9], [-0.1, -0.1, -0.1, -0.1, -0.1, 28.8, 28.8, 28.8, 28.8, 28.8], [-0.6, -0.6, -0.7, -0.7, -0.7, 20.4, 20.6, 20.8, 20.9, 21.0], [0.0, 0.0, -0.1, -0.1, -0.1, 22.2, 22.3, 22.4, 22.4, 22.5], [0.0, 0.1, 0.1, 0.2, 0.2, 28.8, 28.6, 28.4, 28.2, 28.1], [0.1, 0.1, 0.1, 0.1, 0.1, 28.8, 28.8, 28.9, 28.9, 28.9], [-0.4, -0.3, -0.3, -0.3, -0.3, 26.1, 26.2, 26.3, 26.4, 26.5], [0.2, 0.2, 0.2, 0.2, 0.1, 27.5, 27.5, 27.6, 27.6, 27.6], [0.1, 0.1, 0.1, 0.1, 0.1, 27.2, 27.3, 27.3, 27.3, 27.4], [0.0, 0.0, 0.1, 0.1, 0.2, 24.1, 23.8, 23.6, 23.4, 23.4], [-0.2, -0.3, -0.3, -0.3, -0.3, 27.5, 27.5, 27.5, 27.5, 27.6], [-0.1, 0.0, 0.0, 0.0, 0.1, 28.8, 28.9, 28.9, 28.9, 28.8], [-0.8, -0.8, -0.8, -0.5, -0.5, 24.5, 25.1, 24.1, 24.1, 24.0], [0.4, 0.4, 0.4, 0.4, 0.4, 28.7, 28.8, 28.8, 28.7, 28.7], [0.3, 0.3, 0.4, 0.4, 0.4, 28.7, 28.7, 28.7, 28.7, 28.7], [-0.9, -0.9, -1.1, -1.1, -1.1, 23.8, 23.9, 23.8, 23.8, 23.8], [-0.8, -0.8, -0.6, -0.4, -0.2, 21.3, 21.4, 21.5, 21.7, 21.7], [-0.2, -0.2, -0.2, -0.2, -0.2, 27.8, 27.8, 27.9, 27.9, 27.9], [-0.1, -0.3, -0.3, -0.5, -0.5, 24.5, 24.6, 24.7, 24.6, 24.6], [-0.2, -0.1, -0.1, -0.1, -0.1, 23.9, 23.9, 24.0, 24.0, 24.1], [-0.4, -0.4, -0.4, -0.5, -0.5, 27.2, 27.3, 27.4, 27.4, 27.4], [-0.1, -0.1, -0.1, -0.1, 0.0, 25.4, 25.5, 25.4, 25.5, 25.5], [-0.4, -0.6, -0.6, -0.6, -0.6, 20.9, 19.8, 20.4, 20.1, 20.2], [-0.3, -0.3, -0.3, -0.4, -0.4, 25.1, 25.1, 25.2, 25.3, 25.2], [0.5, 0.6, 0.6, 0.6, 0.6, 27.9, 27.9, 27.8, 27.8, 27.8], [0.1, 0.0, -0.1, -0.1, -0.2, 21.6, 21.7, 21.8, 21.9, 21.9], [0.1, 0.1, 0.1, 0.1, 0.0, 24.3, 24.3, 24.3, 24.4, 24.5], [0.2, 0.2, 0.2, 0.2, 0.2, 27.0, 27.0, 27.1, 27.1, 27.2], [-0.1, -0.1, -0.1, 0.0, 0.1, 23.9, 23.9, 23.9, 24.0, 24.0], [0.0, 0.1, 0.1, 0.1, 0.1, 27.9, 27.8, 27.5, 27.4, 27.3], [0.2, 0.1, 0.1, 0.1, 0.1, 28.2, 28.2, 28.2, 28.3, 28.3], [-0.2, -0.2, -0.2, -0.2, -0.2, 26.1, 26.1, 26.2, 26.2, 26.2], [-0.2, 0.1, 0.1, 0.0, 0.0, 23.8, 23.9, 24.0, 24.0, 24.1], [0.4, 0.4, 0.2, 0.2, 0.2, 23.0, 23.1, 23.2, 23.2, 23.3], [0.4, 0.4, 0.4, 0.4, 0.5, 27.7, 27.7, 27.8, 27.9, 27.9], [-0.3, -0.3, -0.3, -0.1, -0.1, 28.2, 28.2, 28.3, 28.3, 28.2], [0.1, 0.1, 0.1, 0.1, 0.0, 28.7, 28.7, 28.7, 28.8, 28.8], [0.3, 0.4, 0.4, 0.4, 0.4, 27.5, 27.5, 27.6, 27.4, 27.3], [0.5, 0.5, 0.5, 0.5, 0.5, 28.4, 28.4, 28.4, 28.5, 28.5], [-0.4, -0.5, -0.5, -0.5, -0.6, 28.0, 28.0, 28.0, 28.0, 28.0], [0.2, 0.1, 0.1, 0.1, 0.0, 28.6, 28.6, 28.6, 28.7, 28.7], [0.3, 0.2, 0.2, 0.1, 0.1, 22.2, 22.3, 22.6, 22.7, 22.8], [-0.2, -0.2, -0.2, -0.2, -0.2, 28.4, 28.5, 28.5, 28.5, 28.6], [0.4, 0.4, 0.4, 0.3, 0.3, 28.6, 28.6, 28.6, 28.6, 28.7], [-0.2, -0.2, -0.2, -0.2, -0.2, 22.2, 21.9, 21.8, 21.9, 21.6], [-0.5, -0.3, -0.3, -0.3, -0.3, 27.4, 27.4, 27.5, 27.6, 27.6], [-0.6, -0.6, -0.6, -0.6, -0.6, 28.0, 28.0, 28.1, 28.1, 28.1], [-0.2, -0.2, -0.2, -0.2, -0.2, 26.3, 26.3, 26.4, 26.4, 26.5], [0.1, 0.1, 0.1, 0.0, 0.0, 28.6, 28.5, 28.5, 28.5, 28.5], [0.2, 0.2, 0.1, 0.1, 0.1, 27.0, 27.2, 27.0, 26.8, 26.9], [0.0, 0.0, 0.0, 0.0, -0.1, 27.8, 27.8, 27.8, 27.9, 27.9], [0.2, 0.3, 0.4, 0.5, 0.5, 28.7, 28.6, 28.4, 28.3, 28.3], [-0.2, -0.2, -0.2, -0.2, -0.2, 23.7, 23.7, 23.8, 23.8, 23.9], [-0.5, -0.5, -0.8, -0.8, -0.8, 23.4, 23.4, 20.9, 19.4, 22.0], [0.2, 0.2, 0.2, 0.2, 0.2, 28.6, 28.7, 28.7, 28.8, 28.7], [0.1, 0.1, 0.1, 0.1, 0.0, 21.7, 21.9, 22.0, 22.0, 21.5], [0.1, 0.1, 0.1, 0.0, 0.0, 27.3, 27.3, 27.4, 27.4, 27.5], [-0.8, -0.8, -0.8, -0.8, -0.8, 24.0, 24.1, 24.1, 24.1, 24.1], [0.0, -0.1, 0.0, 0.1, 0.0, 28.8, 28.7, 28.7, 28.8, 28.9], [-0.2, -0.1, -0.2, -0.1, -0.1, 26.5, 26.6, 26.6, 26.7, 26.7], [0.3, 0.3, 0.3, 0.3, 0.2, 26.7, 26.7, 26.8, 26.9, 26.9], [0.0, 0.0, 0.0, 0.0, -0.1, 27.8, 27.8, 27.8, 27.8, 27.8], [-0.3, -0.3, -0.5, -0.5, -0.3, 26.5, 26.5, 26.4, 26.5, 26.6], [0.0, 0.0, 0.0, 0.2, 0.1, 25.6, 25.6, 25.6, 25.6, 25.6], [0.0, 0.0, -0.1, -0.1, -0.1, 27.1, 27.2, 27.2, 27.2, 27.3], [-0.3, -0.3, -0.2, -0.2, -0.5, 24.5, 24.5, 24.1, 23.3, 20.9], [-0.1, 0.0, 0.0, 0.1, 0.1, 29.1, 29.1, 29.1, 29.1, 29.1], [-0.1, -0.1, -0.1, -0.2, -0.1, 28.0, 28.0, 28.0, 28.0, 28.0], [0.1, 0.1, 0.1, 0.1, -0.3, 23.4, 23.2, 22.6, 22.4, 22.3], [0.1, 0.2, 0.2, 0.2, 0.2, 28.3, 28.2, 28.1, 28.1, 28.2], [-0.1, -0.1, -0.1, -0.2, -0.2, 28.0, 27.9, 27.9, 27.9, 27.9], [0.0, -0.1, -0.1, -0.1, -0.2, 24.4, 24.8, 24.9, 25.0, 25.1], [-0.1, -0.1, -0.1, 0.0, 0.0, 21.4, 21.0, 20.3, 20.2, 20.4], [-0.1, -0.1, -0.1, -0.3, -0.3, 27.3, 27.3, 27.3, 27.4, 27.4], [0.0, 0.0, 0.0, 0.0, 0.0, 28.8, 28.8, 28.8, 28.8, 28.8], [0.0, 0.1, 0.1, 0.0, 0.0, 28.5, 28.5, 28.6, 28.6, 28.6], [-1.7, -1.7, -1.7, -1.7, -1.7, 23.6, 23.8, 23.8, 23.8, 23.9], [0.1, 0.0, 0.0, 0.1, 0.2, 19.9, 19.6, 19.8, 20.0, 20.3], [0.8, 0.8, 0.7, 0.7, 0.6, 27.7, 27.8, 27.7, 27.6, 27.7], [0.0, 0.0, 0.0, 0.1, 0.1, 27.7, 27.7, 27.7, 27.7, 27.8], [-1.1, -1.1, -1.0, -1.0, -0.9, 22.0, 22.2, 22.6, 22.8, 22.9], [0.0, 0.0, 0.1, 0.1, 0.1, 28.9, 28.9, 28.9, 29.0, 29.0], [0.1, 0.1, 0.0, 0.0, 0.0, 28.1, 28.2, 28.2, 28.2, 28.2], [0.2, 0.2, 0.2, 0.2, 0.2, 28.5, 28.4, 28.4, 28.3, 28.4], [-0.2, -0.1, 0.0, 0.1, 0.1, 22.9, 22.9, 23.0, 23.1, 23.1], [-0.2, -0.2, -0.2, -0.1, -0.1, 21.3, 21.3, 21.5, 21.7, 21.7], [0.2, 0.2, 0.2, 0.2, 0.2, 22.8, 23.0, 23.1, 23.2, 23.2], [-0.2, -0.2, -0.2, -0.2, -0.2, 27.9, 27.9, 28.0, 28.0, 28.1], [0.0, 0.0, 0.0, 0.0, 0.0, 27.5, 27.5, 27.5, 27.6, 27.6], [-0.1, -0.1, -0.1, -0.1, -0.1, 28.9, 28.9, 28.9, 28.9, 28.9], [0.1, 0.1, 0.1, 0.1, 0.1, 28.4, 28.5, 28.5, 28.5, 28.5], [0.2, 0.2, 0.2, 0.2, 0.2, 28.5, 28.5, 28.5, 28.5, 28.5]]\n"
     ]
    }
   ],
   "source": [
    "train_labels = [d[-1] for d in strat_train_set]\n",
    "test_labels = [d[-1] for d in strat_test_set]\n",
    "for d in strat_test_set:\n",
    "    d.pop()\n",
    "for d in strat_train_set:\n",
    "    d.pop()\n",
    "train_set = [d for d in strat_train_set]\n",
    "test_set = [d for d in strat_test_set]\n",
    "print(train_set)"
   ]
  },
  {
   "cell_type": "markdown",
   "metadata": {},
   "source": [
    "LogReg"
   ]
  },
  {
   "cell_type": "code",
   "execution_count": 9,
   "metadata": {},
   "outputs": [
    {
     "name": "stdout",
     "output_type": "stream",
     "text": [
      "Accuracy: 0.9375\n"
     ]
    },
    {
     "name": "stderr",
     "output_type": "stream",
     "text": [
      "c:\\Users\\owenp\\AppData\\Local\\Programs\\Python\\Python38\\lib\\site-packages\\sklearn\\linear_model\\_logistic.py:460: ConvergenceWarning: lbfgs failed to converge (status=1):\n",
      "STOP: TOTAL NO. of ITERATIONS REACHED LIMIT.\n",
      "\n",
      "Increase the number of iterations (max_iter) or scale the data as shown in:\n",
      "    https://scikit-learn.org/stable/modules/preprocessing.html\n",
      "Please also refer to the documentation for alternative solver options:\n",
      "    https://scikit-learn.org/stable/modules/linear_model.html#logistic-regression\n",
      "  n_iter_i = _check_optimize_result(\n"
     ]
    }
   ],
   "source": [
    "from sklearn.linear_model import LogisticRegression\n",
    "from sklearn.metrics import accuracy_score\n",
    "\n",
    "# Instantiate Logistic Regression model\n",
    "log_reg = LogisticRegression()\n",
    "\n",
    "# Fit the model to the training data\n",
    "log_reg.fit(train_set, train_labels)\n",
    "\n",
    "# Predict on the test data\n",
    "predictions = log_reg.predict(test_set)\n",
    "\n",
    "# Evaluate the accuracy of the model\n",
    "accuracy = accuracy_score(test_labels, predictions)\n",
    "print(\"Accuracy:\", accuracy)\n"
   ]
  },
  {
   "cell_type": "markdown",
   "metadata": {},
   "source": [
    "decision tree"
   ]
  },
  {
   "cell_type": "code",
   "execution_count": 10,
   "metadata": {},
   "outputs": [
    {
     "name": "stdout",
     "output_type": "stream",
     "text": [
      "Accuracy: 0.9583333333333334\n"
     ]
    }
   ],
   "source": [
    "from sklearn.tree import DecisionTreeClassifier\n",
    "from sklearn.metrics import accuracy_score\n",
    "\n",
    "# Instantiate Decision Tree classifier\n",
    "tree_clf = DecisionTreeClassifier(random_state=42)\n",
    "\n",
    "# Fit the model to the training data\n",
    "tree_clf.fit(train_set, train_labels)\n",
    "\n",
    "# Predict on the test data\n",
    "predictions = tree_clf.predict(test_set)\n",
    "\n",
    "# Evaluate the accuracy of the model\n",
    "accuracy = accuracy_score(test_labels, predictions)\n",
    "print(\"Accuracy:\", accuracy)\n"
   ]
  },
  {
   "cell_type": "markdown",
   "metadata": {},
   "source": [
    "Now try without heart-rate"
   ]
  },
  {
   "cell_type": "code",
   "execution_count": 19,
   "metadata": {},
   "outputs": [],
   "source": [
    "conductivity_only_test_set = [d[5:] for d in test_set]\n",
    "conductivity_only_train_set = [d[5:] for d in train_set]"
   ]
  },
  {
   "cell_type": "code",
   "execution_count": 21,
   "metadata": {},
   "outputs": [
    {
     "name": "stdout",
     "output_type": "stream",
     "text": [
      "Accuracy: 0.9375\n"
     ]
    }
   ],
   "source": [
    "# Instantiate Decision Tree classifier\n",
    "tree_clf = DecisionTreeClassifier(random_state=42)\n",
    "\n",
    "# Fit the model to the training data\n",
    "tree_clf.fit(conductivity_only_train_set, train_labels)\n",
    "\n",
    "# Predict on the test data\n",
    "predictions = tree_clf.predict(conductivity_only_test_set)\n",
    "\n",
    "# Evaluate the accuracy of the model\n",
    "accuracy = accuracy_score(test_labels, predictions)\n",
    "print(\"Accuracy:\", accuracy)"
   ]
  },
  {
   "cell_type": "code",
   "execution_count": 26,
   "metadata": {},
   "outputs": [
    {
     "name": "stdout",
     "output_type": "stream",
     "text": [
      "Accuracy: 0.9375\n"
     ]
    }
   ],
   "source": [
    "from sklearn.linear_model import LogisticRegression\n",
    "from sklearn.metrics import accuracy_score\n",
    "\n",
    "# Instantiate Logistic Regression model\n",
    "log_reg = LogisticRegression()\n",
    "\n",
    "# Fit the model to the training data\n",
    "log_reg.fit(conductivity_only_train_set, train_labels)\n",
    "\n",
    "# Predict on the test data\n",
    "predictions = log_reg.predict(conductivity_only_test_set)\n",
    "\n",
    "# Evaluate the accuracy of the model\n",
    "accuracy = accuracy_score(test_labels, predictions)\n",
    "print(\"Accuracy:\", accuracy)\n"
   ]
  },
  {
   "cell_type": "markdown",
   "metadata": {},
   "source": [
    "Now try only using heart rate"
   ]
  },
  {
   "cell_type": "code",
   "execution_count": 23,
   "metadata": {},
   "outputs": [],
   "source": [
    "hr_only_test_set = [d[:5] for d in test_set]\n",
    "hr_only_train_set = [d[:5] for d in train_set]"
   ]
  },
  {
   "cell_type": "code",
   "execution_count": 24,
   "metadata": {},
   "outputs": [
    {
     "name": "stdout",
     "output_type": "stream",
     "text": [
      "Accuracy: 0.5416666666666666\n"
     ]
    }
   ],
   "source": [
    "# Instantiate Decision Tree classifier\n",
    "tree_clf = DecisionTreeClassifier(random_state=42)\n",
    "\n",
    "# Fit the model to the training data\n",
    "tree_clf.fit(hr_only_train_set, train_labels)\n",
    "\n",
    "# Predict on the test data\n",
    "predictions = tree_clf.predict(hr_only_test_set)\n",
    "\n",
    "# Evaluate the accuracy of the model\n",
    "accuracy = accuracy_score(test_labels, predictions)\n",
    "print(\"Accuracy:\", accuracy)"
   ]
  },
  {
   "cell_type": "code",
   "execution_count": 25,
   "metadata": {},
   "outputs": [
    {
     "name": "stdout",
     "output_type": "stream",
     "text": [
      "Accuracy: 0.6041666666666666\n"
     ]
    }
   ],
   "source": [
    "from sklearn.linear_model import LogisticRegression\n",
    "from sklearn.metrics import accuracy_score\n",
    "\n",
    "# Instantiate Logistic Regression model\n",
    "log_reg = LogisticRegression()\n",
    "\n",
    "# Fit the model to the training data\n",
    "log_reg.fit(hr_only_train_set, train_labels)\n",
    "\n",
    "# Predict on the test data\n",
    "predictions = log_reg.predict(hr_only_test_set)\n",
    "\n",
    "# Evaluate the accuracy of the model\n",
    "accuracy = accuracy_score(test_labels, predictions)\n",
    "print(\"Accuracy:\", accuracy)\n"
   ]
  }
 ],
 "metadata": {
  "kernelspec": {
   "display_name": "Python 3",
   "language": "python",
   "name": "python3"
  },
  "language_info": {
   "codemirror_mode": {
    "name": "ipython",
    "version": 3
   },
   "file_extension": ".py",
   "mimetype": "text/x-python",
   "name": "python",
   "nbconvert_exporter": "python",
   "pygments_lexer": "ipython3",
   "version": "3.8.0"
  }
 },
 "nbformat": 4,
 "nbformat_minor": 2
}
